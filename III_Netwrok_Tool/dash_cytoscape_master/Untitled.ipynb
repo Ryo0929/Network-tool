{
 "cells": [
  {
   "cell_type": "code",
   "execution_count": 1,
   "metadata": {},
   "outputs": [],
   "source": [
    "import json\n",
    "\n",
    "import dash\n",
    "from dash.dependencies import Input, Output\n",
    "import dash_core_components as dcc\n",
    "import dash_html_components as html\n",
    "\n",
    "import dash_cytoscape as cyto\n",
    "from demos import dash_reusable_components as drc\n"
   ]
  },
  {
   "cell_type": "code",
   "execution_count": 11,
   "metadata": {},
   "outputs": [],
   "source": [
    "import pandas\n",
    "\n",
    "df_edge=pandas.read_excel(\"result.xlsx\", sheet_name='edge_count')\n",
    "df_node=pandas.read_excel(\"result.xlsx\", sheet_name='node_count')\n",
    "df_tag=pandas.read_excel(\"tagm.xlsx\", sheet_name='工作表1')\n",
    "\n",
    "\n",
    "# We select the first 750 edges and associated nodes for an easier visualization\n"
   ]
  },
  {
   "cell_type": "code",
   "execution_count": 13,
   "metadata": {},
   "outputs": [],
   "source": [
    "node_numbers,edge_numbers=200,200\n",
    "\n",
    "nodes = set()\n",
    "nodes_list = df_node[\"tag\"].head(node_numbers).values.tolist()\n",
    "sizes_list = df_node[\"count\"].head(node_numbers).values.tolist()\n",
    "edges_list = df_edge.head(edge_numbers).values.tolist()\n",
    "node_size_dict=dict(zip(nodes_list,sizes_list))\n",
    "cy_edges = []\n",
    "cy_nodes = []\n",
    "for network_edge in edges_list:\n",
    "    source, target = network_edge[0],network_edge[1]\n",
    "    if source in nodes_list and target in nodes_list:\n",
    "        if source not in nodes:\n",
    "            nodes.add(source)\n",
    "            class_str=df_tag.columns[df_tag.isin([source]).any()][0]\n",
    "            node_size=int(node_size_dict[source])\n",
    "            cy_nodes.append({\"data\": {\"id\": source, \"label\": source, \"size\":node_size},\"classes\":class_str})\n",
    "\n",
    "        if target not in nodes:\n",
    "            nodes.add(target)\n",
    "            class_str=df_tag.columns[df_tag.isin([target]).any()][0]\n",
    "            node_size=int(node_size_dict[target])\n",
    "            cy_nodes.append({\"data\": {\"id\": target, \"label\": target, \"size\":node_size},\"classes\":class_str})\n",
    "\n",
    "        cy_edges.append({\n",
    "            'data': {\n",
    "                'source': source,\n",
    "                'target': target\n",
    "            }\n",
    "        })\n",
    "\n",
    "result=cy_edges+cy_nodes"
   ]
  },
  {
   "cell_type": "code",
   "execution_count": 17,
   "metadata": {},
   "outputs": [
    {
     "data": {
      "text/plain": [
       "'FFB218'"
      ]
     },
     "execution_count": 17,
     "metadata": {},
     "output_type": "execute_result"
    }
   ],
   "source": [
    "test[1:7]"
   ]
  },
  {
   "cell_type": "code",
   "execution_count": null,
   "metadata": {},
   "outputs": [],
   "source": []
  }
 ],
 "metadata": {
  "kernelspec": {
   "display_name": "Python 3",
   "language": "python",
   "name": "python3"
  },
  "language_info": {
   "codemirror_mode": {
    "name": "ipython",
    "version": 3
   },
   "file_extension": ".py",
   "mimetype": "text/x-python",
   "name": "python",
   "nbconvert_exporter": "python",
   "pygments_lexer": "ipython3",
   "version": "3.7.9"
  }
 },
 "nbformat": 4,
 "nbformat_minor": 4
}
